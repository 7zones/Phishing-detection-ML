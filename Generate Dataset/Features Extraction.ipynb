{
 "cells": [
  {
   "cell_type": "code",
   "execution_count": 13,
   "metadata": {},
   "outputs": [],
   "source": [
    "from urllib.parse import urlparse,urlencode\n",
    "import ipaddress\n",
    "import re\n",
    "from bs4 import BeautifulSoup\n",
    "import whois\n",
    "import urllib\n",
    "import urllib.request\n",
    "from datetime import datetime\n",
    "import requests"
   ]
  },
  {
   "cell_type": "code",
   "execution_count": 2,
   "metadata": {},
   "outputs": [
    {
     "name": "stdout",
     "output_type": "stream",
     "text": [
      "Requirement already satisfied: python-whois in c:\\users\\watch dogs\\anaconda3\\lib\\site-packages (0.7.3)\n",
      "Requirement already satisfied: future in c:\\users\\watch dogs\\anaconda3\\lib\\site-packages (from python-whois) (0.18.2)\n"
     ]
    }
   ],
   "source": [
    "! pip install python-whois"
   ]
  },
  {
   "cell_type": "code",
   "execution_count": 2,
   "metadata": {},
   "outputs": [],
   "source": [
    "url = 'https://github.com/aidenpearce001/'"
   ]
  },
  {
   "cell_type": "code",
   "execution_count": 3,
   "metadata": {},
   "outputs": [],
   "source": [
    "# Virustotal URL Scanning\n",
    "\n",
    "requests = \"https://www.virustotal.com/gui/home/url\""
   ]
  },
  {
   "cell_type": "markdown",
   "metadata": {},
   "source": [
    "### Punnycode\n",
    "references: https://stackoverflow.com/questions/14313849/how-to-validate-internationalized-domain-names"
   ]
  },
  {
   "cell_type": "code",
   "execution_count": 4,
   "metadata": {},
   "outputs": [
    {
     "name": "stdout",
     "output_type": "stream",
     "text": [
      "INVALID\n"
     ]
    }
   ],
   "source": [
    "punny_url = \"http://pfarmerü.com\"\n",
    "vaild_regex = \"/^(http|https|ftp):\\/\\/([A-Z0-9][A-Z0-9_-]*(?:\\.[A-Z0-9][A-Z0-9_-]*)+):?(\\d+)?\\/?/i\"\n",
    "if re.match(vaild_regex,punny_url):\n",
    "    print('OK')\n",
    "else:\n",
    "    print(\"INVALID\")"
   ]
  },
  {
   "cell_type": "code",
   "execution_count": 7,
   "metadata": {},
   "outputs": [],
   "source": [
    "domain = re.findall(r\"://([^/]+)/?\", url)[0]\n",
    "if re.match(r\"^www.\", domain):\n",
    "    domain = domain.replace(\"www.\", \"\")\n",
    "whois_response = whois.whois(domain)"
   ]
  },
  {
   "cell_type": "code",
   "execution_count": 9,
   "metadata": {},
   "outputs": [
    {
     "data": {
      "text/plain": [
       "'github.com'"
      ]
     },
     "execution_count": 9,
     "metadata": {},
     "output_type": "execute_result"
    }
   ],
   "source": [
    "domain"
   ]
  },
  {
   "cell_type": "markdown",
   "metadata": {},
   "source": [
    "### page rank"
   ]
  },
  {
   "cell_type": "code",
   "execution_count": 17,
   "metadata": {},
   "outputs": [],
   "source": [
    "domain = re.findall(r\"://([^/]+)/?\", url)[0]\n",
    "if re.match(r\"^www.\", domain):\n",
    "    domain = domain.replace(\"www.\", \"\")\n",
    "whois_response = whois.whois(domain)\n",
    "\n",
    "payload={\"name\": domain }\n",
    "\n",
    "rank_checker_response = requests.get(\"https://www.checkpagerank.net/index.php\", data=payload)\n",
    "try:\n",
    "    global_rank = int(re.findall(\n",
    "        r\"Global Rank: ([0-9]+)\", rank_checker_response.text)[0])\n",
    "except:\n",
    "    global_rank = -1\n"
   ]
  },
  {
   "cell_type": "code",
   "execution_count": 18,
   "metadata": {},
   "outputs": [],
   "source": [
    "rank_checker_response = requests.get(\"https://www.checkpagerank.net/index.php\", data=payload)"
   ]
  },
  {
   "cell_type": "code",
   "execution_count": 20,
   "metadata": {},
   "outputs": [
    {
     "ename": "IndexError",
     "evalue": "list index out of range",
     "output_type": "error",
     "traceback": [
      "\u001b[1;31m---------------------------------------------------------------------------\u001b[0m",
      "\u001b[1;31mIndexError\u001b[0m                                Traceback (most recent call last)",
      "\u001b[1;32m<ipython-input-20-ad25bb18ac7e>\u001b[0m in \u001b[0;36m<module>\u001b[1;34m\u001b[0m\n\u001b[1;32m----> 1\u001b[1;33m \u001b[0mint\u001b[0m\u001b[1;33m(\u001b[0m\u001b[0mre\u001b[0m\u001b[1;33m.\u001b[0m\u001b[0mfindall\u001b[0m\u001b[1;33m(\u001b[0m\u001b[1;34mr\"Global Rank: ([0-9]+)\"\u001b[0m\u001b[1;33m,\u001b[0m \u001b[0mrank_checker_response\u001b[0m\u001b[1;33m.\u001b[0m\u001b[0mtext\u001b[0m\u001b[1;33m)\u001b[0m\u001b[1;33m[\u001b[0m\u001b[1;36m0\u001b[0m\u001b[1;33m]\u001b[0m\u001b[1;33m)\u001b[0m\u001b[1;33m\u001b[0m\u001b[1;33m\u001b[0m\u001b[0m\n\u001b[0m",
      "\u001b[1;31mIndexError\u001b[0m: list index out of range"
     ]
    }
   ],
   "source": [
    "int(re.findall(r\"Global Rank: ([0-9]+)\", rank_checker_response.text)[0])"
   ]
  },
  {
   "cell_type": "code",
   "execution_count": 21,
   "metadata": {},
   "outputs": [
    {
     "data": {
      "text/plain": [
       "'<!doctype html>\\n<html lang=\"en\">\\n<head>\\n<!-- structured data -->\\n<title>Check Page Rank - Check Your PageRank Free!</title>\\n<meta name=\"title\" content=\"Check Page Rank - Check Your PageRank Free!\" />\\n<meta name=\"description\" content=\"Page Rank Checker and Domain Analysis Tool. Free tool reports PageRank and other important SEO statistics about your website. Fake Page Rank Detection!\" />\\n<meta name=\"keywords\" content=\"page rank checker, check pagerank, check page rank, google page rank, page rank, pagerank checker, check google page rank, check page rank, site pagerank, domain pagerank, fake pagerank checker, pagerank tester, analyze google pagerank, increase pagerank, google pr, google pr check\" />\\n<!-- structured data -->\\n<meta charset=\"utf-8\">\\n<meta name=\"author\" content=\"CheckPageRank.net\">\\n<meta name=\"robots\" content=\"index,follow\" />\\n<meta name=\"googlebot\" content=\"index,follow\" />\\n<meta name=\"google\" content=\"notranslate\" />\\n<meta name=\"viewport\" content=\"width=device-width, initial-scale=1, shrink-to-fit=no\">\\n<link rel=\"stylesheet\" href=\"https://maxcdn.bootstrapcdn.com/bootstrap/4.0.0/css/bootstrap.min.css\" integrity=\"sha384-Gn5384xqQ1aoWXA+058RXPxPg6fy4IWvTNh0E263XmFcJlSAwiGgFAW/dAiS6JXm\" crossorigin=\"anonymous\">\\n<link href=\"//checkpagerank.net/style/style.css\" rel=\"stylesheet\" type=\"text/css\" />\\n<link rel=\"icon\" type=\"image/x-icon\" href=\"https://checkpagerank.net/favicon.ico\" />\\n<script async src=\"//pagead2.googlesyndication.com/pagead/js/adsbygoogle.js\"></script>\\n<script>\\n     (adsbygoogle = window.adsbygoogle || []).push({\\n          google_ad_client: \"ca-pub-0459810183196391\",\\n          enable_page_level_ads: true\\n     });\\n</script>\\n<script>\\nfunction navfunction() {\\n    var x = document.getElementById(\"primary-menu\");\\n    if (x.className === \"topnav\") {\\n        x.className += \" responsive\";\\n    } else {\\n        x.className = \"topnav\";\\n    }\\n}\\n</script>\\n<link rel=\\'canonical\\' href=\\'https://www.checkpagerank.net\\'>\\n<script async=\\'async\\' src=\\'https://www.googletagservices.com/tag/js/gpt.js\\'></script>\\n<script>\\n  var googletag = googletag || {};\\n  googletag.cmd = googletag.cmd || [];\\n</script>\\n<script>\\n  googletag.cmd.push(function() {\\n    googletag.defineSlot(\\'/21719449983/CPR-Footer\\', [[728, 90], [970, 90]], \\'div-gpt-ad-1535211877312-0\\').addService(googletag.pubads());\\n    googletag.pubads().enableSingleRequest();\\n    googletag.enableServices();\\n  });\\n</script>\\n</head>\\n<body>\\n\\t<div class=\"container\">\\n    <div class=\"row\">\\n  \\t\\t<div class=\"col-lg-12 header pad\" align=\"center\"><a href=\"https://checkpagerank.net/index.php\"><img src=\"https://checkpagerank.net/images/logo.png\" title=\"Check PageRank\" alt=\"Check PageRank\" width=\"300\" height=\"70\" class=\"img-fluid\"></a>\\n<h4><a href=\"https://www.alexa.com/siteinfo/checkpagerank.net\" target=\"_blank\">CHECKPAGERANK.NET - CURRENT GLOBAL RANK ~ top 100,000</a></h4>\\n</div>\\n  \\t</div>\\n  \\t<div class=\"row\">\\n  \\t\\t<div class=\"col-sm-2 pad\"><nav class=\"topnav\" id=\"primary-menu\" >\\n\\t<ul>\\n\\t\\t<li><a href=\"https://checkpagerank.net/check-page-rank.php\" target=\"_self\">CHECK PAGERANK</a></li>\\n\\t\\t<li><a href=\"https://checkpagerank.net/pagerank-icon.php\" target=\"_self\">LINK TO US</a></li>\\n\\t\\t<li><a href=\"https://checkpagerank.net/seo-services.php\" target=\"_self\">SEO CAMPAIGNS</a></li>\\n\\t\\t<li><a href=\"https://checkpagerank.net/seo-site-audit.php\" target=\"_self\">SEO SITE AUDIT</a></li>\\n\\t\\t<li><a href=\"https://checkpagerank.net/banner-advertising.php\" target=\"_self\">ADVERTISE</a></li>\\n\\t\\t<li><a href=\"https://checkpagerank.net/business-directory.php\" target=\"_self\">BUSINESS DIRECTORY</a></li>\\n\\t\\t<li><a href=\"https://checkpagerank.net/contact.php\" target=\"_self\">CONTACT US</a></li>\\n\\t\\t<li><a href=\"https://checkpagerank.net/blog/pagerank-blog.php\" target=\"_self\">PageRank BLOG:</a></li>\\n\\t\\t<li class=\"blog\"><a href=\"https://checkpagerank.net/blog/seo/backlink-building-in-2021.php\" target=\"_self\"><b>Backlink Building in 2021</b></a></li>\\n\\t\\t<li class=\"blog blogremove\"><a href=\"https://checkpagerank.net/blog/seo/seo-in-2021.php\" target=\"_self\">SEO in 2021</a></li>\\n\\t\\t<li class=\"blog blogremove\"><a href=\"https://checkpagerank.net/blog/pagerank/pagerank-is-back.php\" target=\"_self\">PAGERANK IS BACK!!!</a></li>\\n\\t\\t<li class=\"blog blogremove\"><a href=\"https://checkpagerank.net/blog/seo/link-building-in-2017.php\" target=\"_self\">Link Building in 2017</a></li>\\n\\t\\t<li class=\"blog blogremove\"><a href=\"https://checkpagerank.net/blog/google/heres-to-2017.php\" target=\"_self\">Here\\'s to 2017!</a></li>\\n\\t\\t<li class=\"blog blogremove\"><a href=\"https://checkpagerank.net/blog/pagerank/pagerank-is-not-dead.php\" target=\"_self\">PageRank is NOT Dead</a></li>\\n\\t\\t<li class=\"blog blogremove\"><a href=\"https://checkpagerank.net/blog/google/google-penguin-3-update.php\" target=\"_self\">Google Penguin 3.0 Update</a></li>\\n\\t\\t<li class=\"blog blogremove\"><a href=\"https://checkpagerank.net/blog/seo/what-is-seo.php\" target=\"_self\">What Is SEO?</a></li>\\n\\t\\t<li class=\"blog blogremove\"><a href=\"https://checkpagerank.net/blog/pagerank/what-is-pagerank.php\" target=\"_self\">What Is PageRank?</a></li>\\n\\t\\t<li class=\"blog blogremove\"><a href=\"https://checkpagerank.net/blog/google/google-algorithm-updates.php\" target=\"_self\">Google Algorithm Updates</a></li>\\n\\t</ul>\\n\\t<a href=\"javascript:void(0);\" onclick=\"navfunction()\" class=\"icon\">&#9776;</a>\\n</nav>\\n<!-- Begin Mailchimp Signup Form -->\\n<div id=\"mc_embed_signup\" class=\"remove\">\\n<br><br>\\n<form action=\"https://checkpagerank.us7.list-manage.com/subscribe/post?u=3c42152a6703df6af3962bc08&amp;id=7e64fbedc5\" method=\"post\" id=\"mc-embedded-subscribe-form\" name=\"mc-embedded-subscribe-form\" class=\"validate\" target=\"_blank\" novalidate>\\n\\t<h4><b>Get PageRank News, Updates and Special Offers:</b></h4>\\n<div class=\"mc-field-group\">\\n\\t<label for=\"mce-EMAIL\">Email Address: </label>\\n\\t<input type=\"email\" value=\"\" name=\"EMAIL\" class=\"required email\" id=\"mce-EMAIL\">\\n</div>\\n\\t<div id=\"mce-responses\" class=\"clear\">\\n\\t\\t<div class=\"response\" id=\"mce-error-response\" style=\"display:none\"></div>\\n\\t\\t<div class=\"response\" id=\"mce-success-response\" style=\"display:none\"></div>\\n\\t</div>    <!-- real people should not fill this in and expect good things - do not remove this or risk form bot signups-->\\n    <div style=\"position: absolute; left: -5000px;\" aria-hidden=\"true\"><input type=\"text\" name=\"b_3c42152a6703df6af3962bc08_7e64fbedc5\" tabindex=\"-1\" value=\"\"></div>\\n\\t<div class=\"clear\"><input type=\"submit\" value=\"Subscribe\" name=\"subscribe\" id=\"mc-embedded-subscribe\" class=\"button\"></div>\\n</form>\\n</div>\\n<!--End mc_embed_signup-->\\n<br><br>\\n<a href=\"/banner-advertising.php\" title=\"Advertise On CheckPageRank.net\" style=\"border: none;\" onClick=\"_gaq.push([\\'_trackEvent\\', \\'banner\\', \\'bannerclick\\', \\'bravailable160x120\\', 1, false]);\"><img src=\"/banners/available160x120.png\" width=\"160\" height=\"120\" alt=\"Advertise On CheckPageRank.net\" /></a>\\n<br><br>\\n<script async src=\"//pagead2.googlesyndication.com/pagead/js/adsbygoogle.js\"></script>\\n<!-- CPR Left Banner 1 -->\\n<ins class=\"adsbygoogle\"\\n     style=\"display:block\"\\n     data-ad-client=\"ca-pub-0459810183196391\"\\n     data-ad-slot=\"9114670050\"\\n     data-ad-format=\"auto\"></ins>\\n<script>\\n(adsbygoogle = window.adsbygoogle || []).push({});\\n</script>\\n<br><br>\\n<script async src=\"//pagead2.googlesyndication.com/pagead/js/adsbygoogle.js\"></script>\\n<!-- CPR Left Banner 2 -->\\n<ins class=\"adsbygoogle\"\\n     style=\"display:block\"\\n     data-ad-client=\"ca-pub-0459810183196391\"\\n     data-ad-slot=\"9234213268\"\\n     data-ad-format=\"auto\"></ins>\\n<script>\\n(adsbygoogle = window.adsbygoogle || []).push({});\\n</script>\\n</div>\\n  \\t\\t<div class=\"col-md-8 sidepad\" align=\"center\">\\n\\t\\t\\t\\t<h1>Check PageRank</h1>\\n\\t\\t\\t\\tFREE TOOL TO CHECK GOOGLE PAGE RANK, DOMAIN AUTHORITY, GLOBAL RANK, LINKS AND MORE!\\n\\t\\t\\t\\t<br/><br/>\\n\\t\\t\\t\\tGoogle PageRank (Google PR) is one of the methods Google uses to determine a page\\'s relevance or importance. Important pages receive a higher PageRank and are more likely to appear at the top of the search results. Google PageRank (PR) is a measure from 0 - 10. Google Pagerank is based on backlinks. The more quality backlinks the higher Google Pagerank. Improving your Google page rank (<a href=\"https://www.linksmanagement.com/5-5/?utm_medium=media&utm_source=00005&utm_campaign=homepage-inserted_in_the_text&utm_content=building_quality_backlinks_with_pa50_and_da40\" target=\"_blank\" rel=\"nofollow\" onClick=\"_gaq.push([\\'_trackEvent\\', \\'link\\', \\'linkclick\\', \\'linkmainincontent\\', 1, false]);\" class=\"linkm\">building QUALITY backlinks</a>\\n\\t\\t\\t\\t) is very important if you want to improve your search engine rankings.\\n\\t\\t\\t\\t<br/><br/>\\n\\t\\t\\t\\tFAKE PAGERANK CHECKER AND COMPLETE DOMAIN ANALYSIS\\n\\t\\t\\t\\tGoogle Pagerank fraud is achieved when offending websites use redirects that point their websites to sites with a high Google Pagerank. Our Google PageRank checker determines if the PageRank is valid and also the quality of the pagerank based on the backlinks structure.\\n\\t\\t\\t\\t<br/><br/>\\n\\n\\t\\t\\t\\t<table width=\"100%\" border=\"0\" class=\"remove\">\\n\\t\\t\\t\\t    <tr>\\n\\t\\t\\t\\t        <td align=\"center\"><a href=\"https://www.linksmanagement.com/5-5/?utm_medium=media&utm_source=00005&utm_campaign=homepage-left&utm_content=da50_pa40_text_backlinks_from_3\" target=\"_blank\" rel=\"nofollow\" onClick=\"_gaq.push([\\'_trackEvent\\', \\'link\\', \\'linkclick\\', \\'linkmainleft\\', 1, false]);\"><font color=\"#4d82f7\" size=\"2.9em\">DA50+ PA40+ Text Backlinks from $3</font></a></td>\\n\\t\\t\\t\\t        <td align=\"center\"><a href=\"https://www.linksmanagement.com/5-5/?utm_medium=media&utm_source=00005&utm_campaign=homepage-under_button_check_domain&utm_content=da53_pa61_backlinks_for_29\" target=\"_blank\" rel=\"nofollow\" onClick=\"_gaq.push([\\'_trackEvent\\', \\'link\\', \\'linkclick\\', \\'linkmaincenter\\', 1, false]);\"><font color=\"#4d82f7\" size=\"2.9em\">DA53+ PA61+ Backlinks for $29</font></a></td>\\n\\t\\t\\t\\t        <td align=\"center\"><a href=\"https://www.linksmanagement.com/5-5/?utm_medium=media&utm_source=00005&utm_campaign=homepage-right&utm_content=pa57_backlinks_da45_from_18\" target=\"_blank\" rel=\"nofollow\" onClick=\"_gaq.push([\\'_trackEvent\\', \\'link\\', \\'linkclick\\', \\'linkmainright\\', 1, false]);\"><font color=\"#598ad4\" size=\"2.9em\">PA57+ Backlinks DA45+ from $18</font></a></td>\\n\\t\\t\\t\\t    </tr>\\n\\t\\t\\t\\t</table>\\n\\t\\t\\t\\t<br/><br/>\\n\\t\\t\\t\\t<a href=\"domains-for-sale.php\"><h2><font color=\"#4d82f7\">HIGH PR AND AGED DOMAINS FOR SALE</font></h2></a>\\n\\t\\t\\t\\t<br/>\\n\\n\\t\\t\\t\\t\\n\\t\\t\\t\\t<form action=\"check-page-rank.php\" method=\"post\" name=\"prForm\" id=\"check\">\\n\\t\\t\\t\\t<h2>Get Website Insights and Domain Analysis:</h2><br/>\\n\\t\\t\\t\\tenter domain name:<br/>\\n\\t\\t\\t\\thttps://www. &nbsp;<input type=\"text\" name=\"name\" pattern=\"[^?|<|>]+\" title=\"Valid link only\" value=\"\" style=\"font-size:38px; text-align:center; font-weight:bold;\" onclick=\"this.select();\" autocomplete=\"off\" class=\"form-control\" autocapitalize=\"off\"/>\\n\\t\\t\\t\\t<br>\\n\\t\\t\\t\\t<button type=\"submit\" class=\"btn btn-primary\" style=\"font-size:20px;\">Submit</button>\\n\\t\\t\\t\\t</form>\\n\\t\\t\\t\\t<br><br>\\n\\n\\t\\t\\t\\t\\n\\t\\t\\t\\t\\n\\t\\t\\t\\t<br/><br/>\\n<script async src=\"//pagead2.googlesyndication.com/pagead/js/adsbygoogle.js\"></script>\\n<!-- CPR Bottom Banner 1 -->\\n<ins class=\"adsbygoogle\"\\n     style=\"display:block\"\\n     data-ad-client=\"ca-pub-0459810183196391\"\\n     data-ad-slot=\"4710722701\"\\n     data-ad-format=\"auto\"></ins>\\n<script>\\n(adsbygoogle = window.adsbygoogle || []).push({});\\n</script>\\n<br/><br/>\\n<script async src=\"//pagead2.googlesyndication.com/pagead/js/adsbygoogle.js\"></script>\\n<!-- CPR Bottom Banner 2 -->\\n<ins class=\"adsbygoogle\"\\n     style=\"display:block\"\\n     data-ad-client=\"ca-pub-0459810183196391\"\\n     data-ad-slot=\"5682603226\"\\n     data-ad-format=\"auto\"></ins>\\n<script>\\n(adsbygoogle = window.adsbygoogle || []).push({});\\n</script>\\n<br/><br/>\\n<script async src=\"//pagead2.googlesyndication.com/pagead/js/adsbygoogle.js\"></script>\\n<!-- CPR Bottom Banner 3 -->\\n<ins class=\"adsbygoogle\"\\n     style=\"display:block\"\\n     data-ad-client=\"ca-pub-0459810183196391\"\\n     data-ad-slot=\"4186858574\"\\n     data-ad-format=\"auto\"></ins>\\n<script>\\n(adsbygoogle = window.adsbygoogle || []).push({});\\n</script>\\n<br/><br/>\\n\\t\\t\\t</div>\\n  \\t\\t<div class=\"col-sm-2 nopad\" align=\"center\"><br/>\\n<a href=\"https://www.linksmanagement.com/5-5/?utm_medium=media&utm_source=00005&utm_campaign=top-right_above_another_160x240&utm_content=160x240-DA50_80_buy_links_from_0_24\" title=\"\" target=\"_blank\" rel=\"nofollow\" style=\"border: none;\" onClick=\"_gaq.push([\\'_trackEvent\\', \\'banner\\', \\'bannerclick\\', \\'bannerright160x240-1\\', 1, false]);\"><img src=\"https://checkpagerank.net/banners/lm-4-300x250.gif\" width=\"160\" height=\"240\" alt=\"links management\" /></a><br/>\\n<a href=\"/banner-advertising.php\" title=\"Advertise On CheckPageRank.net\" style=\"border: none;\" onClick=\"_gaq.push([\\'_trackEvent\\', \\'banner\\', \\'bannerclick\\', \\'bravailable160x120\\', 1, false]);\"><img src=\"/banners/available160x120.png\" width=\"160\" height=\"120\" alt=\"Advertise On CheckPageRank.net\" /></a><br/>\\n<a href=\"https://www.linksmanagement.com/5-5/?utm_medium=media&utm_source=00005&utm_campaign=top-right_below_another&utm_content=160x240-smiled_girl_Want_to_Get_TOP10_on_Google\" title=\"\" target=\"_blank\" rel=\"nofollow\" style=\"border: none;\" onClick=\"_gaq.push([\\'_trackEvent\\', \\'banner\\', \\'bannerclick\\', \\'bannerright160x240-2\\', 1, false]);\"><img src=\"https://www.linksmanagement.com/wp-content/uploads/2017/12/160x240-smiled_girl_Want_to_Get_TOP10_on_Google.gif\" width=\"160\" height=\"240\" alt=\"links management\" /></a><br/>\\n<script async src=\"//pagead2.googlesyndication.com/pagead/js/adsbygoogle.js\"></script>\\n<!-- CPR Right Banner 1 -->\\n<ins class=\"adsbygoogle\"\\n     style=\"display:block\"\\n     data-ad-client=\"ca-pub-0459810183196391\"\\n     data-ad-slot=\"6073361755\"\\n     data-ad-format=\"auto\"></ins>\\n<script>\\n(adsbygoogle = window.adsbygoogle || []).push({});\\n</script>\\n<a href=\"https://www.linksmanagement.com/5-5/?utm_medium=media&utm_source=00005&utm_campaign=bottom-right_under_our_160x240&utm_content=160x120-DA50_80_buy_links\" title=\"\" target=\"_blank\" rel=\"nofollow\" style=\"border: none;\" onClick=\"_gaq.push([\\'_trackEvent\\', \\'banner\\', \\'bannerclick\\', \\'bannerright160x120\\', 1, false]);\"><img src=\"https://www.linksmanagement.com/wp-content/uploads/2016/11/160x120-DA50_80_buy_links.gif\" width=\"160\" height=\"120\" alt=\"links management\" /></a><br/>\\n<script async src=\"//pagead2.googlesyndication.com/pagead/js/adsbygoogle.js\"></script>\\n<!-- CPR Right Banner 2 -->\\n<ins class=\"adsbygoogle\"\\n     style=\"display:block\"\\n     data-ad-client=\"ca-pub-0459810183196391\"\\n     data-ad-slot=\"8424316635\"\\n     data-ad-format=\"auto\"></ins>\\n<script>\\n(adsbygoogle = window.adsbygoogle || []).push({});\\n</script><br/>\\n<!-- <a href=\"/banner-advertising.php\" title=\"Advertise On CheckPageRank.net\" style=\"border: none;\" onClick=\"_gaq.push([\\'_trackEvent\\', \\'banner\\', \\'bannerclick\\', \\'bravailable160x120\\', 1, false]);\"><img src=\"/banners/available160x120.png\" width=\"160\" height=\"120\" alt=\"Advertise On CheckPageRank.net\" /></a> -->\\n<!-- <a href=\"/banner-advertising.php\" title=\"Advertise On CheckPageRank.net\" style=\"border: none;\" onClick=\"_gaq.push([\\'_trackEvent\\', \\'banner\\', \\'bannerclick\\', \\'bravailable160x240\\', 1, false]);\"><img src=\"/banners/available160x240.png\" width=\"160\" height=\"240\" alt=\"Advertise On CheckPageRank.net\" /></a> -->\\n</div>\\n  \\t</div>\\n\\t\\t<div class=\"row\">\\n  \\t\\t<div class=\"col-lg-12 footer nopad\" align=\"center\"><div class=\"pad\">\\n<a href=\"https://checkpagerank.net/check-page-rank.php\">Check Google Pagerank</a> |\\n<a href=\"https://checkpagerank.net/pagerank-icon.php\">LINK TO US</a> |\\n<a href=\"https://checkpagerank.net/seo-services.php\">SEO Services</a> |\\n<a href=\"https://checkpagerank.net/seo-site-audit.php\">SEO Site Audit</a> |\\n<a href=\"https://checkpagerank.net/banner-advertising.php\">Advertise</a> |\\n<a href=\"https://checkpagerank.net/contact.php\">Contact Us</a> |\\n<a href=\"https://checkpagerank.net/blog/pagerank-blog.php\">PageRank Blog</a> |\\n<a href=\"https://checkpagerank.net/privacy-policy.php\">Privacy Policy</a><br/><br/>\\nCheckPageRank.net - Page Rank Analysis and Professional Web Marketing (SEO and Backlinks Building) company since 2004!</div>\\n<div class=\"disclaimer pad\">CheckPageRank.net provides easy to use pagerank checking tools, and PR icons that are completely free for personal use and can help promote your website. In addition, CheckPageRank.net also provides SEO services like on-page optimization, off-page optimization, and SEO reporting.</div>\\n<div class=\"pad\"><div id=\"bannerfooter\">Sponsored Ads. Not associated with CheckPageRank.net<br/><br/>\\n<script async src=\"//pagead2.googlesyndication.com/pagead/js/adsbygoogle.js\"></script>\\n<!-- CPR Footer Banner 1 -->\\n<ins class=\"adsbygoogle\"\\n     style=\"display:block\"\\n     data-ad-client=\"ca-pub-0459810183196391\"\\n     data-ad-slot=\"3774625186\"\\n     data-ad-format=\"auto\"\\n     data-full-width-responsive=\"true\"></ins>\\n<script>\\n(adsbygoogle = window.adsbygoogle || []).push({});\\n</script><br/><br/>\\n<script async src=\"//pagead2.googlesyndication.com/pagead/js/adsbygoogle.js\"></script>\\n<!-- CPR Footer Banner 2 -->\\n<ins class=\"adsbygoogle\"\\n     style=\"display:block\"\\n     data-ad-client=\"ca-pub-0459810183196391\"\\n     data-ad-slot=\"2278378202\"\\n     data-ad-format=\"auto\"\\n     data-full-width-responsive=\"true\"></ins>\\n<script>\\n(adsbygoogle = window.adsbygoogle || []).push({});\\n</script><br/><br/>\\n<a href=\"https://www.linksmanagement.com/5-5/?utm_medium=media&utm_source=00005&utm_campaign=bottom-center_near_160x120&utm_content=728x90-DA50_80_buy_organic_links\" target=\"_blank\" rel=\"nofollow\" onClick=\"_gaq.push([\\'_trackEvent\\', \\'banner\\', \\'bannerclick\\', \\'bannerfooter\\', 1, false]);\"><img src=\"https://checkpagerank.net/banners/lm-2-728x90.gif\" alt=\"links management\" class=\"img-fluid\"/></a>\\n</div>\\n</div>\\n<div class=\"copyright pad\">&copy; 2004 CheckPageRank.Net. All Rights Reserved. Affluent Media Group, 980 N Michigan Ave Ste. 1400, Chicago IL 60611.</div>\\n<div class=\"disclaimernoborder pad\">Disclaimer: Google™ search engine and PageRank™ algorithm are the trademarks of Google Inc. CheckPageRank.net is not affiliated with Google Inc., but provides publicly available information about pagerank values of websites. We provide our services on \"as is\" and \"as available\" basis and we do not provide any guarantees regarding this service stability and/or availability.</div>\\n<script>\\n/* <![CDATA[ */\\nvar google_conversion_id = 969631549;\\nvar google_custom_params = window.google_tag_params;\\nvar google_remarketing_only = true;\\n/* ]]> */\\n</script>\\n<script src=\"//www.googleadservices.com/pagead/conversion.js\">\\n</script>\\n<noscript>\\n<div style=\"display:inline;\">\\n<img height=\"1\" width=\"1\" style=\"border-style:none;\" alt=\"\" src=\"//googleads.g.doubleclick.net/pagead/viewthroughconversion/969631549/?value=0&amp;guid=ON&amp;script=0\"/>\\n</div>\\n</noscript>\\n</div>\\n  \\t</div>\\n\\t</div>\\n\\n<link href=\"https://fonts.googleapis.com/css?family=Cabin:400,500,700&display=swap\" rel=\"stylesheet\">\\n\\n<!-- jQuery first, then Popper.js, then Bootstrap JS -->\\n<script src=\"https://code.jquery.com/jquery-3.2.1.slim.min.js\" integrity=\"sha384-KJ3o2DKtIkvYIK3UENzmM7KCkRr/rE9/Qpg6aAZGJwFDMVNA/GpGFF93hXpG5KkN\" crossorigin=\"anonymous\" async></script>\\n<script src=\"https://cdnjs.cloudflare.com/ajax/libs/popper.js/1.12.9/umd/popper.min.js\" integrity=\"sha384-ApNbgh9B+Y1QKtv3Rn7W3mgPxhU9K/ScQsAP7hUibX39j7fakFPskvXusvfa0b4Q\" crossorigin=\"anonymous\" async></script>\\n<script src=\"https://maxcdn.bootstrapcdn.com/bootstrap/4.0.0/js/bootstrap.min.js\" integrity=\"sha384-JZR6Spejh4U02d8jOt6vLEHfe/JQGiRRSQQxSfFWpi1MquVdAyjUar5+76PVCmYl\" crossorigin=\"anonymous\" async></script>\\n\\n<script>\\n  var _gaq = _gaq || [];\\n  _gaq.push([\\'_setAccount\\', \\'UA-654337-1\\']);\\n  _gaq.push([\\'_trackPageview\\']);\\n\\n  (function() {\\n    var ga = document.createElement(\\'script\\'); ga.type = \\'text/javascript\\'; ga.async = true;\\n    ga.src = (\\'https:\\' == document.location.protocol ? \\'https://ssl\\' : \\'http://www\\') + \\'.google-analytics.com/ga.js\\';\\n    var s = document.getElementsByTagName(\\'script\\')[0]; s.parentNode.insertBefore(ga, s);\\n  })();\\n</script>\\n\\n\\t<script src=\\'pdf/dist/jspdf.min.js\\'></script>\\n\\t<script>\\n\\tvar base64Img = null;\\n\\timgToBase64(\\'images/logo.png\\', function(base64) {\\n\\t    base64Img = base64;\\n\\t});\\n\\n\\tmargins = {\\n\\t  top: 70,\\n\\t  bottom: 40,\\n\\t  left: 30,\\n\\t  width: 550\\n\\t};\\n\\n\\tgenerate = function()\\n\\t{\\n\\t\\tvar pdf = new jsPDF(\\'p\\', \\'pt\\', \\'a4\\');\\n\\t\\tpdf.setFontSize(18);\\n\\t\\tpdf.fromHTML(document.getElementById(\\'html-2-pdfwrapper\\'),\\n\\t\\t\\tmargins.left, // x coord\\n\\t\\t\\tmargins.top,\\n\\t\\t\\t{\\n\\t\\t\\t\\t// y coord\\n\\t\\t\\t\\twidth: margins.width// max width of content on PDF\\n\\t\\t\\t},function(dispose) {\\n\\t\\t\\t\\theaderFooterFormatting(pdf, pdf.internal.getNumberOfPages());\\n\\t\\t\\t},\\n\\t\\t\\tmargins);\\n\\n\\t  pdf.save(\\'.pdf\\');\\n\\n\\t};\\n\\tfunction headerFooterFormatting(doc, totalPages)\\n\\t{\\n\\t    for(var i = totalPages; i >= 1; i--)\\n\\t    {\\n\\t        doc.setPage(i);\\n\\t        //header\\n\\t        header(doc);\\n\\n\\t        footer(doc, i, totalPages);\\n\\t        doc.page++;\\n\\t    }\\n\\t};\\n\\n\\tfunction header(doc)\\n\\t{\\n\\t    doc.setFontSize(30);\\n\\t    doc.setTextColor(40);\\n\\t    doc.setFontStyle(\\'normal\\');\\n\\t    if (base64Img) {\\n\\t       doc.addImage(base64Img, \\'JPEG\\', margins.left, 10, 180,40);\\n\\t    }\\n\\t    // doc.text(\"Domain Analysis\", margins.left + 50, 40 );\\n\\t\\t// doc.setLineCap(2);\\n\\t\\tdoc.line(3, 70, margins.width + 43,70); // horizontal line\\n\\t};\\n\\n\\t// You could either use a function similar to this or pre convert an image with for example http://dopiaza.org/tools/datauri\\n\\t// http://stackoverflow.com/questions/6150289/how-to-convert-image-into-base64-string-using-javascript\\n\\tfunction imgToBase64(url, callback, imgVariable) {\\n\\n\\t    if (!window.FileReader) {\\n\\t        callback(null);\\n\\t        return;\\n\\t    }\\n\\t    var xhr = new XMLHttpRequest();\\n\\t    xhr.responseType = \\'blob\\';\\n\\t    xhr.onload = function() {\\n\\t        var reader = new FileReader();\\n\\t        reader.onloadend = function() {\\n\\t\\t\\t\\timgVariable = reader.result.replace(\\'text/xml\\', \\'image/jpeg\\');\\n\\t            callback(imgVariable);\\n\\t        };\\n\\t        reader.readAsDataURL(xhr.response);\\n\\t    };\\n\\t    xhr.open(\\'GET\\', url);\\n\\t    xhr.send();\\n\\t};\\n\\tfunction footer(doc, pageNumber, totalPages){\\n\\t    var str = \"Page \" + pageNumber + \" of \" + totalPages\\n\\t    doc.setFontSize(10);\\n\\t    doc.text(str, margins.left, doc.internal.pageSize.height - 20);\\n\\t};\\n\\t </script>\\n</body>\\n</html>\\n'"
      ]
     },
     "execution_count": 21,
     "metadata": {},
     "output_type": "execute_result"
    }
   ],
   "source": [
    "rank_checker_response.text"
   ]
  },
  {
   "cell_type": "code",
   "execution_count": 8,
   "metadata": {},
   "outputs": [],
   "source": [
    "def mouseOver(response): \n",
    "        if response == \"\" :\n",
    "            return 1\n",
    "        else:\n",
    "            if re.findall(\"<script>.+onmouseover.+</script>\", response.text):\n",
    "                return 1\n",
    "            else:\n",
    "                return 0\n",
    "    \n",
    "    # 17.Checks the status of the right click attribute (Right_Click)\n",
    "def rightClick(response):\n",
    "    if response == \"\":\n",
    "        return 1\n",
    "    else:\n",
    "        if re.findall(r\"event.button ?== ?2\", response.text):\n",
    "            return 0\n",
    "        else:\n",
    "            return 1"
   ]
  },
  {
   "cell_type": "code",
   "execution_count": 22,
   "metadata": {},
   "outputs": [],
   "source": [
    "class Extractor():\n",
    "    def __init__(self):\n",
    "        self.feature_names = ['Have_IP', 'Have_At', 'URL_Depth','Redirection', \n",
    "                        'https_Domain', 'TinyURL', 'Prefix/Suffix', 'DNS_Record', 'Web_Traffic', \n",
    "                        'Domain_Age', 'Domain_End', 'iFrame', 'Mouse_Over','Right_Click', 'Web_Forwards','Punny_Code']\n",
    "\n",
    "    # 3.Checks the presence of @ in URL (Have_At)\n",
    "    @staticmethod\n",
    "    def haveAtSign(url):\n",
    "        if \"@\" in url and self.getLength(url) == 1:\n",
    "            at = 1    \n",
    "        else:\n",
    "            at = 0    \n",
    "        return at\n",
    "    # 4.Finding the length of URL and categorizing (URL_Length)\n",
    "    @staticmethod\n",
    "    def getLength(self):\n",
    "        if len(url) < 54:\n",
    "            length = 0            \n",
    "        else:\n",
    "            length = 1            \n",
    "        return length\n",
    "    \n",
    "    def __call__(self, url):\n",
    "        if isinstance(url, str):\n",
    "\n",
    "            url = url.rstrip()\n",
    "            features = []\n",
    "            features.append(self.haveAtSign(url))\n",
    "            \n",
    "            print(features)"
   ]
  },
  {
   "cell_type": "code",
   "execution_count": 23,
   "metadata": {},
   "outputs": [
    {
     "name": "stdout",
     "output_type": "stream",
     "text": [
      "[0]\n"
     ]
    }
   ],
   "source": [
    "ext = Extractor()\n",
    "ext(\"https://stackoverflow.com/questions/42179046/what-flavor-of-regex-does-visual-studio-code-use\")"
   ]
  }
 ],
 "metadata": {
  "kernelspec": {
   "display_name": "Python 3",
   "language": "python",
   "name": "python3"
  },
  "language_info": {
   "codemirror_mode": {
    "name": "ipython",
    "version": 3
   },
   "file_extension": ".py",
   "mimetype": "text/x-python",
   "name": "python",
   "nbconvert_exporter": "python",
   "pygments_lexer": "ipython3",
   "version": "3.8.5"
  }
 },
 "nbformat": 4,
 "nbformat_minor": 4
}
