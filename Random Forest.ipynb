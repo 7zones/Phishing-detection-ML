{
 "cells": [
  {
   "cell_type": "code",
   "execution_count": 3,
   "metadata": {},
   "outputs": [],
   "source": [
    "import numpy as np\n",
    "import matplotlib.pyplot as plt\n",
    "import pandas as pd\n",
    "from sklearn.ensemble import RandomForestClassifier\n",
    "# import sklearn.external.joblib as extjoblib\n",
    "import joblib"
   ]
  },
  {
   "cell_type": "code",
   "execution_count": 5,
   "metadata": {},
   "outputs": [
    {
     "data": {
      "text/html": [
       "<div>\n",
       "<style scoped>\n",
       "    .dataframe tbody tr th:only-of-type {\n",
       "        vertical-align: middle;\n",
       "    }\n",
       "\n",
       "    .dataframe tbody tr th {\n",
       "        vertical-align: top;\n",
       "    }\n",
       "\n",
       "    .dataframe thead th {\n",
       "        text-align: right;\n",
       "    }\n",
       "</style>\n",
       "<table border=\"1\" class=\"dataframe\">\n",
       "  <thead>\n",
       "    <tr style=\"text-align: right;\">\n",
       "      <th></th>\n",
       "      <th>urls</th>\n",
       "      <th>features</th>\n",
       "    </tr>\n",
       "  </thead>\n",
       "  <tbody>\n",
       "    <tr>\n",
       "      <th>0</th>\n",
       "      <td>https://http://https://www.wikipedia.org/?http...</td>\n",
       "      <td>[0, 0, 2, 1, 1, 0, 0, 0, 1, 1, 1, 1, 1, 1, 0]</td>\n",
       "    </tr>\n",
       "    <tr>\n",
       "      <th>1</th>\n",
       "      <td>https://http://https://store.apple.com/https:/...</td>\n",
       "      <td>[0, 0, 11, 1, 1, 0, 0, 0, 1, 1, 1, 1, 1, 1, 0]</td>\n",
       "    </tr>\n",
       "    <tr>\n",
       "      <th>2</th>\n",
       "      <td>https://http://https://store.apple.com/https:/...</td>\n",
       "      <td>[0, 0, 10, 1, 1, 0, 0, 0, 1, 1, 1, 1, 1, 1, 0]</td>\n",
       "    </tr>\n",
       "    <tr>\n",
       "      <th>3</th>\n",
       "      <td>https://http://https://store.apple.com/https:/...</td>\n",
       "      <td>[0, 0, 14, 1, 1, 0, 0, 0, 1, 1, 1, 1, 1, 1, 0]</td>\n",
       "    </tr>\n",
       "    <tr>\n",
       "      <th>4</th>\n",
       "      <td>https://http://https://mail.google.com/https:/...</td>\n",
       "      <td>[0, 0, 6, 1, 1, 0, 0, 0, 1, 1, 1, 1, 1, 1, 0]</td>\n",
       "    </tr>\n",
       "  </tbody>\n",
       "</table>\n",
       "</div>"
      ],
      "text/plain": [
       "                                                urls  \\\n",
       "0  https://http://https://www.wikipedia.org/?http...   \n",
       "1  https://http://https://store.apple.com/https:/...   \n",
       "2  https://http://https://store.apple.com/https:/...   \n",
       "3  https://http://https://store.apple.com/https:/...   \n",
       "4  https://http://https://mail.google.com/https:/...   \n",
       "\n",
       "                                         features  \n",
       "0   [0, 0, 2, 1, 1, 0, 0, 0, 1, 1, 1, 1, 1, 1, 0]  \n",
       "1  [0, 0, 11, 1, 1, 0, 0, 0, 1, 1, 1, 1, 1, 1, 0]  \n",
       "2  [0, 0, 10, 1, 1, 0, 0, 0, 1, 1, 1, 1, 1, 1, 0]  \n",
       "3  [0, 0, 14, 1, 1, 0, 0, 0, 1, 1, 1, 1, 1, 1, 0]  \n",
       "4   [0, 0, 6, 1, 1, 0, 0, 0, 1, 1, 1, 1, 1, 1, 0]  "
      ]
     },
     "execution_count": 5,
     "metadata": {},
     "output_type": "execute_result"
    }
   ],
   "source": [
    "dataset = pd.read_csv(\"Generate Dataset/chongluadao_dataset.csv\")\n",
    "dataset.head()"
   ]
  },
  {
   "cell_type": "code",
   "execution_count": null,
   "metadata": {},
   "outputs": [],
   "source": [
    "x = dataset.iloc[ : , :-1].values\n",
    "y = dataset.iloc[:, -1:].values"
   ]
  }
 ],
 "metadata": {
  "kernelspec": {
   "display_name": "Python 3",
   "language": "python",
   "name": "python3"
  },
  "language_info": {
   "codemirror_mode": {
    "name": "ipython",
    "version": 3
   },
   "file_extension": ".py",
   "mimetype": "text/x-python",
   "name": "python",
   "nbconvert_exporter": "python",
   "pygments_lexer": "ipython3",
   "version": "3.8.5"
  }
 },
 "nbformat": 4,
 "nbformat_minor": 4
}
